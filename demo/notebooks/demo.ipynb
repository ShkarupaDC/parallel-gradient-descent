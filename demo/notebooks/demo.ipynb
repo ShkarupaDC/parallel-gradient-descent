{
 "cells": [
  {
   "cell_type": "markdown",
   "metadata": {},
   "source": [
    "## Import modules"
   ]
  },
  {
   "cell_type": "code",
   "execution_count": 1,
   "metadata": {},
   "outputs": [],
   "source": [
    "import numpy as np\n",
    "from sklearn.linear_model import SGDRegressor, LinearRegression\n",
    "from sklearn.preprocessing import StandardScaler\n",
    "from sklearn.pipeline import make_pipeline\n",
    "from sklearn.metrics import mean_squared_error\n",
    "import os\n",
    "import time"
   ]
  },
  {
   "cell_type": "markdown",
   "metadata": {},
   "source": [
    "## Utils"
   ]
  },
  {
   "cell_type": "code",
   "execution_count": 2,
   "metadata": {
    "tags": []
   },
   "outputs": [],
   "source": [
    "def load_matrix(path: str, verbose: bool = True) -> np.ndarray:\n",
    "    matrix = np.load(path)\n",
    "    if verbose:\n",
    "        print(\"Loaded matrix from\", os.path.basename(path))\n",
    "        print(\"Shape:\", matrix.shape)\n",
    "        print(\"Example:\\n\", matrix[:3], end=\"\\n\\n\")\n",
    "    return matrix"
   ]
  },
  {
   "cell_type": "code",
   "execution_count": 3,
   "metadata": {
    "tags": []
   },
   "outputs": [
    {
     "name": "stdout",
     "output_type": "stream",
     "text": [
      "/home/shkarupa/Documents/Semester6/Coursework/parallel-gradient-descent\n"
     ]
    }
   ],
   "source": [
    "%cd ../../"
   ]
  },
  {
   "cell_type": "markdown",
   "metadata": {},
   "source": [
    "## Generate data"
   ]
  },
  {
   "cell_type": "code",
   "execution_count": 4,
   "metadata": {},
   "outputs": [
    {
     "name": "stdout",
     "output_type": "stream",
     "text": [
      "Generate train and test data for linear regression model\n",
      "\n",
      "Tool arguments:\n",
      "  -h, --help          show this help message and exit\n",
      "  -t , --n-train      number of train samples (default: 1000)\n",
      "  -e , --n-eval       number of evaluation samples (default: 100)\n",
      "  -f , --n-features   number of per sample features (default: 10)\n",
      "  -s , --seed         seed that make data generation deterministic (default:\n",
      "                      None)\n",
      "  -o , --out-dir      path to directory where generated data will be stored\n",
      "                      (default: ./data)\n"
     ]
    }
   ],
   "source": [
    "!python demo/gen_data.py --help"
   ]
  },
  {
   "cell_type": "code",
   "execution_count": 5,
   "metadata": {},
   "outputs": [],
   "source": [
    "!python demo/gen_data.py --n-train 500 --n-eval 100 --n-features 12 --seed 42 --out-dir data"
   ]
  },
  {
   "cell_type": "markdown",
   "metadata": {},
   "source": [
    "## Look at data"
   ]
  },
  {
   "cell_type": "code",
   "execution_count": 6,
   "metadata": {},
   "outputs": [
    {
     "name": "stdout",
     "output_type": "stream",
     "text": [
      "x_eval.npy  x_train.npy  y_eval.npy  y_train.npy\n"
     ]
    }
   ],
   "source": [
    "!ls data"
   ]
  },
  {
   "cell_type": "code",
   "execution_count": 7,
   "metadata": {},
   "outputs": [
    {
     "name": "stdout",
     "output_type": "stream",
     "text": [
      "Loaded matrix from x_train.npy\n",
      "Shape: (500, 12)\n",
      "Example:\n",
      " [[ 0.73447675  2.14582493 -1.98196449 -1.35375467 -1.4991812  -1.16948063\n",
      "  -1.03799135 -2.07711985  2.77996362 -0.72097011 -0.23527391 -1.54493592]\n",
      " [-0.20358036 -0.64927755  0.03408347 -0.37912774 -0.76997323  1.67770081\n",
      "   1.62839662 -0.58168091  0.56898308 -0.55358824 -1.01475673 -1.22394027]\n",
      " [-0.8946073   1.44697788  1.03184454  1.25575613 -1.48556037 -0.43449623\n",
      "  -0.47874862 -0.18687164  0.22213377 -0.30917212 -0.43973106  0.19655478]]\n",
      "\n",
      "Loaded matrix from y_train.npy\n",
      "Shape: (500, 1)\n",
      "Example:\n",
      " [[-376.28563841]\n",
      " [ 119.31908989]\n",
      " [ -81.10116051]]\n",
      "\n",
      "Loaded matrix from x_eval.npy\n",
      "Shape: (100, 12)\n",
      "Example:\n",
      " [[-0.92406281  0.38574997  0.24087676 -0.71998953 -0.66569346  0.83315777\n",
      "  -2.70754386 -1.25350601  0.86424838 -0.6302493  -0.21495484  0.70266   ]\n",
      " [ 1.28093958 -1.2699986   0.67194461 -1.49725765  0.38420207 -0.23591653\n",
      "   0.29497146 -0.6654223  -0.53475667 -0.40688524  0.72190349  0.66884013]\n",
      " [ 1.32130403 -1.86653995 -0.68462983 -0.64937304  0.7906256  -0.35834015\n",
      "  -0.18122417  1.419603    0.74419197 -0.64754181 -0.60042357  1.00751369]]\n",
      "\n",
      "Loaded matrix from y_eval.npy\n",
      "Shape: (100, 1)\n",
      "Example:\n",
      " [[-344.74406388]\n",
      " [-155.75264373]\n",
      " [  27.03087533]]\n",
      "\n"
     ]
    }
   ],
   "source": [
    "x_train = load_matrix(\"data/x_train.npy\")\n",
    "y_train = load_matrix(\"data/y_train.npy\")\n",
    "\n",
    "x_eval = load_matrix(\"data/x_eval.npy\")\n",
    "y_eval = load_matrix(\"data/y_eval.npy\")"
   ]
  },
  {
   "cell_type": "markdown",
   "metadata": {},
   "source": [
    "## Run Linear regression"
   ]
  },
  {
   "cell_type": "code",
   "execution_count": 8,
   "metadata": {},
   "outputs": [
    {
     "name": "stdout",
     "output_type": "stream",
     "text": [
      "Linear regression config:\n",
      "\n",
      "CLI options:\n",
      "  -h [ --help ]                        produce help message\n",
      "  -c [ --config ] arg                  path to config file\n",
      "\n",
      "Algorithm options:\n",
      "  -i [ --input-path ] arg              path to input NPY file\n",
      "  -t [ --target-path ] arg             path to target NPY file\n",
      "  -e [ --eval-path ] arg               path to evaluation NPY file\n",
      "  -o [ --out-path ] arg (=output.npy)  path to output NPY file\n",
      "  -p [ --parallel ]                    wether to use parallel or serial SGD\n",
      "  -n [ --num-epochs ] arg (=1000)      number of training epochs\n",
      "  -l [ --lr ] arg (=0.001)             learning rate\n",
      "  -w [ --weight-decay ] arg (=0.01)    L2 regularization lambda term\n",
      "  --normalize                          wether to normalize input\n",
      "  --num-threads arg (=12)              number of threads to use for parallel \n",
      "                                       SGD\n",
      "  --num-step-epochs arg (=1)           number of epochs to compute in each \n",
      "                                       thread before weight sharing\n",
      "\n"
     ]
    }
   ],
   "source": [
    "!./build/bin/gradient_descent -h"
   ]
  },
  {
   "cell_type": "markdown",
   "metadata": {},
   "source": [
    "### SGD"
   ]
  },
  {
   "cell_type": "code",
   "execution_count": 9,
   "metadata": {},
   "outputs": [
    {
     "name": "stdout",
     "output_type": "stream",
     "text": [
      "input-path = data/x_train.npy\n",
      "target-path = data/y_train.npy\n",
      "eval-path = data/x_eval.npy\n",
      "out-path = output/serial_pred.npy\n",
      "parallel = false\n",
      "num-epochs = 10000\n",
      "lr = 0.001\n",
      "weight-decay = 0.01\n",
      "normalize = true\n"
     ]
    }
   ],
   "source": [
    "!cat examples/serial_config.cfg"
   ]
  },
  {
   "cell_type": "code",
   "execution_count": 10,
   "metadata": {},
   "outputs": [
    {
     "name": "stdout",
     "output_type": "stream",
     "text": [
      "SGD: 151 ms\n"
     ]
    }
   ],
   "source": [
    "!./build/bin/gradient_descent --config examples/serial_config.cfg"
   ]
  },
  {
   "cell_type": "code",
   "execution_count": 11,
   "metadata": {},
   "outputs": [],
   "source": [
    "y_pred_sgd = load_matrix(\"output/serial_pred.npy\", verbose=False)"
   ]
  },
  {
   "cell_type": "code",
   "execution_count": 12,
   "metadata": {},
   "outputs": [
    {
     "name": "stdout",
     "output_type": "stream",
     "text": [
      "MSE: 13.708756140309415\n"
     ]
    }
   ],
   "source": [
    "print(\"MSE:\", mean_squared_error(y_pred_sgd.squeeze(), y_eval))"
   ]
  },
  {
   "cell_type": "markdown",
   "metadata": {},
   "source": [
    "### Parallel SGD"
   ]
  },
  {
   "cell_type": "code",
   "execution_count": 13,
   "metadata": {},
   "outputs": [
    {
     "name": "stdout",
     "output_type": "stream",
     "text": [
      "input-path = data/x_train.npy\n",
      "target-path = data/y_train.npy\n",
      "eval-path = data/x_eval.npy\n",
      "out-path = output/parallel_pred.npy\n",
      "parallel = true\n",
      "num-epochs = 10000\n",
      "lr = 0.001\n",
      "weight-decay = 0.01\n",
      "normalize = true\n",
      "num-threads = 12\n",
      "num-step-epochs = 4\n"
     ]
    }
   ],
   "source": [
    "!cat examples/parallel_config.cfg"
   ]
  },
  {
   "cell_type": "code",
   "execution_count": 14,
   "metadata": {},
   "outputs": [],
   "source": [
    "# !./build/bin/gradient_descent --config examples/parallel_config.cfg"
   ]
  },
  {
   "cell_type": "code",
   "execution_count": 15,
   "metadata": {},
   "outputs": [],
   "source": [
    "y_pred_parallel_sgd = load_matrix(\"output/parallel_pred.npy\", verbose=False)"
   ]
  },
  {
   "cell_type": "code",
   "execution_count": 16,
   "metadata": {},
   "outputs": [
    {
     "name": "stdout",
     "output_type": "stream",
     "text": [
      "MSE: 41119.08393241694\n"
     ]
    }
   ],
   "source": [
    "print(\"MSE:\", mean_squared_error(y_pred_parallel_sgd, y_eval))"
   ]
  },
  {
   "cell_type": "markdown",
   "metadata": {},
   "source": [
    "### Sklearn"
   ]
  },
  {
   "cell_type": "code",
   "execution_count": 17,
   "metadata": {},
   "outputs": [],
   "source": [
    "# regressor = make_pipeline(StandardScaler(), LinearRegression())\n",
    "regressor = make_pipeline(\n",
    "    StandardScaler(), \n",
    "    SGDRegressor(alpha=0.01, learning_rate=\"constant\", eta0=0.001),\n",
    ")"
   ]
  },
  {
   "cell_type": "code",
   "execution_count": 18,
   "metadata": {},
   "outputs": [
    {
     "data": {
      "text/plain": [
       "Pipeline(steps=[('standardscaler', StandardScaler()),\n",
       "                ('sgdregressor',\n",
       "                 SGDRegressor(alpha=0.01, eta0=0.001,\n",
       "                              learning_rate='constant'))])"
      ]
     },
     "execution_count": 18,
     "metadata": {},
     "output_type": "execute_result"
    }
   ],
   "source": [
    "# start = time.perf_counter_ns()\n",
    "regressor.fit(x_train, y_train.squeeze())\n",
    "# end = time.perf_counter_ns()\n",
    "# print(\"SGD:\", (end - start) / 1e6, \"ms\")"
   ]
  },
  {
   "cell_type": "code",
   "execution_count": 19,
   "metadata": {},
   "outputs": [],
   "source": [
    "y_pred = regressor.predict(x_eval)"
   ]
  },
  {
   "cell_type": "code",
   "execution_count": 20,
   "metadata": {},
   "outputs": [
    {
     "name": "stdout",
     "output_type": "stream",
     "text": [
      "MSE: 16.062651132437246\n"
     ]
    }
   ],
   "source": [
    "print(\"MSE:\", mean_squared_error(y_pred, y_eval))"
   ]
  }
 ],
 "metadata": {
  "interpreter": {
   "hash": "005aa42a3c05eb6a12425960c6c6bfe217241fd38a2b2fc790f7fac1e98f5e10"
  },
  "kernelspec": {
   "display_name": "Python 3 (ipykernel)",
   "language": "python",
   "name": "python3"
  },
  "language_info": {
   "codemirror_mode": {
    "name": "ipython",
    "version": 3
   },
   "file_extension": ".py",
   "mimetype": "text/x-python",
   "name": "python",
   "nbconvert_exporter": "python",
   "pygments_lexer": "ipython3",
   "version": "3.10.2"
  }
 },
 "nbformat": 4,
 "nbformat_minor": 4
}
