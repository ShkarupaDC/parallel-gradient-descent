{
 "cells": [
  {
   "cell_type": "markdown",
   "metadata": {},
   "source": [
    "## Import modules"
   ]
  },
  {
   "cell_type": "code",
   "execution_count": 1,
   "metadata": {},
   "outputs": [],
   "source": [
    "import numpy as np\n",
    "import matplotlib.pyplot as plt\n",
    "import os\n",
    "import time\n",
    "\n",
    "from sklearn.linear_model import SGDRegressor, LinearRegression\n",
    "from sklearn.preprocessing import StandardScaler\n",
    "from sklearn.pipeline import make_pipeline\n",
    "from sklearn.metrics import mean_squared_error"
   ]
  },
  {
   "cell_type": "markdown",
   "metadata": {},
   "source": [
    "## Utils"
   ]
  },
  {
   "cell_type": "code",
   "execution_count": 2,
   "metadata": {
    "tags": []
   },
   "outputs": [],
   "source": [
    "def load_matrix(path: str, verbose: bool = True, num_to_print: int = 3) -> np.ndarray:\n",
    "    matrix = np.loadtxt(path, delimiter=\",\")\n",
    "    if verbose:\n",
    "        print(\"Loaded matrix from\", os.path.basename(path))\n",
    "        print(\"Shape:\", matrix.shape)\n",
    "        num_to_print = min(num_to_print, len(matrix))\n",
    "        print(\"Example:\\n\", matrix[:num_to_print], end=\"\\n\\n\")\n",
    "    return matrix"
   ]
  },
  {
   "cell_type": "code",
   "execution_count": 3,
   "metadata": {
    "tags": []
   },
   "outputs": [
    {
     "name": "stdout",
     "output_type": "stream",
     "text": [
      "/home/shkarupa/Documents/Semester6/Coursework/parallel-gradient-descent\n"
     ]
    }
   ],
   "source": [
    "%cd ../../"
   ]
  },
  {
   "cell_type": "markdown",
   "metadata": {},
   "source": [
    "## Generate data"
   ]
  },
  {
   "cell_type": "code",
   "execution_count": 4,
   "metadata": {},
   "outputs": [
    {
     "name": "stdout",
     "output_type": "stream",
     "text": [
      "Generate train and test data for linear regression model\n",
      "\n",
      "options:\n",
      "  -h, --help            show this help message and exit\n",
      "  -t , --num-train      number of train samples (default: 1000)\n",
      "  -e , --num-eval       number of evaluation samples (default: 0)\n",
      "  -f , --num-features   number of per sample features (default: 10)\n",
      "  -s , --seed           seed that make data generation deterministic (default:\n",
      "                        None)\n",
      "  -o , --out-dir        path to directory where generated data will be stored\n",
      "                        (default: ./data)\n"
     ]
    }
   ],
   "source": [
    "!python demo/gen_data.py --help"
   ]
  },
  {
   "cell_type": "code",
   "execution_count": 5,
   "metadata": {},
   "outputs": [],
   "source": [
    "!python demo/gen_data.py --num-train 10000 --num-eval 1000 --num-features 50 --seed 42 --out-dir data"
   ]
  },
  {
   "cell_type": "markdown",
   "metadata": {},
   "source": [
    "## Look at data"
   ]
  },
  {
   "cell_type": "code",
   "execution_count": 6,
   "metadata": {},
   "outputs": [
    {
     "name": "stdout",
     "output_type": "stream",
     "text": [
      "x_eval.csv  x_train.csv  y_eval.csv  y_train.csv\n"
     ]
    }
   ],
   "source": [
    "!ls data"
   ]
  },
  {
   "cell_type": "code",
   "execution_count": 7,
   "metadata": {},
   "outputs": [
    {
     "name": "stdout",
     "output_type": "stream",
     "text": [
      "Loaded matrix from x_train.csv\n",
      "Shape: (10000, 50)\n",
      "Example:\n",
      " [[ 2.95968714 -1.55389604 -0.48789272 -1.36831184 -0.20263477  1.41635756\n",
      "  -0.90313868 -0.95597179 -0.12810009 -0.02263904  1.93091826 -0.32607787\n",
      "   0.98447725  0.20676263  0.98023936 -0.03414261 -0.87678792 -0.74727258\n",
      "  -0.89908933  0.09703152  0.45763206 -0.30576507  0.63384171  0.33568143\n",
      "   1.48803568 -1.18529753  0.84500771 -0.67708658 -0.83827108  1.77233907\n",
      "   1.20185808 -1.35613327  0.02696155 -0.07453549 -0.11018498 -1.02105208\n",
      "   1.313818   -0.50045726 -1.38283007 -0.25538025  1.10290659 -0.43155701\n",
      "  -1.78457899 -1.02707377  0.63928598  0.25682739 -0.99758205 -0.7624109\n",
      "   0.236132    0.39076224]\n",
      " [-0.27781133 -0.91610651  0.42757895 -0.10941617  0.51962799  1.59734786\n",
      "   0.0355245  -0.30976788  1.09694687 -0.95203685  0.23673151 -0.83714568\n",
      "   0.57837305 -0.10084802  0.13556278  0.93543662  0.26276161 -0.35659344\n",
      "   1.11567523 -0.00508411  0.91885756  1.30832185 -2.06085119 -0.1050777\n",
      "   2.12520861  1.56262663 -0.51122999 -0.85091136  0.80528771  0.08362684\n",
      "   1.86880646  0.7885003  -0.19058115  0.57807018 -1.59670416 -1.45176702\n",
      "   1.16182033 -1.38150176  0.23989988 -0.35705069  1.31480371 -0.15677553\n",
      "  -0.25698486  0.05513496 -1.23361284 -0.89909624 -0.46245376 -0.13605804\n",
      "   0.51942191 -1.70974109]\n",
      " [-0.52162039  2.82117892 -1.59373366  0.32953399  0.34217847 -0.09104095\n",
      "   0.18360542  1.16961333  0.75111788  2.15366115  0.61281111  0.69574614\n",
      "   0.7033284   0.24774934  1.03586473  0.46017247  0.95866222 -0.10530401\n",
      "  -1.1408589  -0.42394369 -0.50004125  0.22344324  1.7238002  -0.30851688\n",
      "  -0.62188257 -0.29822032 -1.14413797  1.40813834  1.32985575  0.41604872\n",
      "   0.86768434 -2.48159185 -0.09535557 -0.54298951  0.35574247 -0.37982841\n",
      "  -1.50727081  0.79739274  0.65365459 -0.49908585  0.12073553 -1.73174332\n",
      "   1.36930683 -0.39245976  0.09473062 -1.7253573   0.52616931 -0.39378155\n",
      "  -1.88633428  1.09857467]]\n",
      "\n",
      "Loaded matrix from y_train.csv\n",
      "Shape: (10000,)\n",
      "Example:\n",
      " [-478.16198111  169.86932909 -161.55624699]\n",
      "\n",
      "Loaded matrix from x_eval.csv\n",
      "Shape: (1000, 50)\n",
      "Example:\n",
      " [[ 0.96175829  0.58674452  1.24284055 -0.67560564 -0.20178574  0.13750195\n",
      "   2.98968055 -0.8750105  -0.30803252  0.29253507  0.96502323  1.33490191\n",
      "  -0.30126831 -0.39092628  0.52863209  1.88597908  0.76955121 -0.78925808\n",
      "  -0.76781061 -0.48755244  0.84054724  0.36686101  0.69165782  0.03405319\n",
      "   0.13032699  0.68289451  0.65191006  0.75894884 -1.37628076  0.39589519\n",
      "   0.37445745 -0.66989844  0.32097845 -0.9247938   0.54259753 -0.50472029\n",
      "   1.80665931 -0.44083257  1.04498691 -0.30364496  0.34523431 -0.37263832\n",
      "   1.37882768 -0.18970554 -0.70744278  0.12286005 -1.07113758  1.30073969\n",
      "   0.46906829  1.41200961]\n",
      " [-0.84767884 -0.5780314   0.70219714 -0.85377402 -0.27160273 -1.53550898\n",
      "   0.3870383  -1.08936027  0.85549836 -0.26445369 -0.13930625  0.6150146\n",
      "  -1.80464433  0.23357835  1.42287475  0.25344012 -0.89050652 -0.34798843\n",
      "  -0.41624342 -1.58452954 -0.03977255 -2.04352498 -2.04639122 -1.32748915\n",
      "  -0.53215475 -0.70188121  0.29829602 -0.56154095 -0.55590129 -0.75903841\n",
      "  -0.25011691 -1.70742559  0.07346474  0.49848529  1.22606954  0.4486427\n",
      "  -0.73838372 -0.36016235 -0.17144902  1.26586246 -0.02935448 -0.85773525\n",
      "   0.541882   -0.02313764  0.649756   -1.20399586 -2.32447559  1.04854907\n",
      "   0.18747526 -0.50677887]\n",
      " [ 0.77123601  0.31731032  1.45111757 -2.46339721  0.34453965  0.09734524\n",
      "   1.24875322 -0.47318678 -0.05857757 -0.24646401 -1.59746159 -1.68887239\n",
      "  -0.57699149  1.01553297  0.36085937  1.22906066  0.47988233 -1.08425592\n",
      "   0.23792322 -0.2551666  -0.6363233  -0.72418166  1.64136659  1.83495479\n",
      "  -1.03512218  2.0672147   0.12050157 -0.18971534 -0.01421435 -0.37907946\n",
      "  -0.34346848  0.53243529 -0.03749473  0.52751645  0.01870016  1.53381005\n",
      "  -1.1790435   0.02307377 -0.19013916  1.01850551  0.26322146 -0.01280206\n",
      "   0.59938889 -0.0870314   0.34252829 -1.3019677   0.19906294 -1.17852783\n",
      "   0.72235672 -0.51196368]]\n",
      "\n",
      "Loaded matrix from y_eval.csv\n",
      "Shape: (1000,)\n",
      "Example:\n",
      " [ 250.62927075 -743.17397433  216.12060663]\n",
      "\n"
     ]
    }
   ],
   "source": [
    "x_train = load_matrix(\"data/x_train.csv\")\n",
    "y_train = load_matrix(\"data/y_train.csv\")\n",
    "\n",
    "x_eval = load_matrix(\"data/x_eval.csv\")\n",
    "y_eval = load_matrix(\"data/y_eval.csv\")"
   ]
  },
  {
   "cell_type": "markdown",
   "metadata": {},
   "source": [
    "## Run Linear regression"
   ]
  },
  {
   "cell_type": "code",
   "execution_count": 8,
   "metadata": {},
   "outputs": [
    {
     "name": "stdout",
     "output_type": "stream",
     "text": [
      "Linear regression config:\n",
      "\n",
      "CLI options:\n",
      "  -h [ --help ]                        produce help message\n",
      "  -c [ --config ] arg                  path to config file\n",
      "\n",
      "Algorithm options:\n",
      "  -i [ --input-path ] arg              path to input CSV file\n",
      "  -t [ --target-path ] arg             path to target CSV file\n",
      "  -e [ --eval-path ] arg               path to evaluation CSV file\n",
      "  -o [ --out-path ] arg (=output.csv)  path to output CSV file\n",
      "  --cost-path arg                      path to cost CSV file\n",
      "  -p [ --parallel ]                    wether to use parallel or serial SGD\n",
      "  -n [ --num-epochs ] arg (=1000)      number of training epochs\n",
      "  -l [ --lr ] arg (=0.001)             learning rate\n",
      "  -w [ --weight-decay ] arg (=0.01)    L2 regularization lambda term\n",
      "  --normalize                          wether to normalize input\n",
      "  --num-threads arg (=11)              number of threads to use for parallel \n",
      "                                       SGD\n",
      "  --num-step-epochs arg (=1)           number of epochs to compute in each \n",
      "                                       thread before weight sharing\n",
      "\n"
     ]
    }
   ],
   "source": [
    "!./build/bin/gradient_descent -h"
   ]
  },
  {
   "cell_type": "markdown",
   "metadata": {},
   "source": [
    "### SGD"
   ]
  },
  {
   "cell_type": "code",
   "execution_count": 9,
   "metadata": {},
   "outputs": [
    {
     "name": "stdout",
     "output_type": "stream",
     "text": [
      "input-path = data/x_train.csv\n",
      "target-path = data/y_train.csv\n",
      "eval-path = data/x_eval.csv\n",
      "out-path = output/serial_pred.csv\n",
      "cost-path = output/serial_cost.csv\n",
      "parallel = false\n",
      "num-epochs = 10000\n",
      "lr = 0.001\n",
      "weight-decay = 0.01\n",
      "normalize = true\n"
     ]
    }
   ],
   "source": [
    "!cat examples/serial_config.cfg"
   ]
  },
  {
   "cell_type": "code",
   "execution_count": 10,
   "metadata": {
    "tags": []
   },
   "outputs": [
    {
     "name": "stdout",
     "output_type": "stream",
     "text": [
      "Time: 2026 ms\n"
     ]
    }
   ],
   "source": [
    "!./build/bin/gradient_descent --config examples/serial_config.cfg"
   ]
  },
  {
   "cell_type": "code",
   "execution_count": 11,
   "metadata": {},
   "outputs": [],
   "source": [
    "y_pred_sgd = load_matrix(\"output/serial_pred.csv\", verbose=False)"
   ]
  },
  {
   "cell_type": "code",
   "execution_count": 12,
   "metadata": {},
   "outputs": [
    {
     "name": "stdout",
     "output_type": "stream",
     "text": [
      "MSE: 16.35216516327586\n"
     ]
    }
   ],
   "source": [
    "print(\"MSE:\", mean_squared_error(y_pred_sgd.squeeze(), y_eval))"
   ]
  },
  {
   "cell_type": "markdown",
   "metadata": {},
   "source": [
    "### Parallel SGD"
   ]
  },
  {
   "cell_type": "code",
   "execution_count": 13,
   "metadata": {},
   "outputs": [
    {
     "name": "stdout",
     "output_type": "stream",
     "text": [
      "input-path = data/x_train.csv\n",
      "target-path = data/y_train.csv\n",
      "eval-path = data/x_eval.csv\n",
      "out-path = output/parallel_pred.csv\n",
      "cost-path = output/parallel_cost.csv\n",
      "parallel = true\n",
      "num-epochs = 10000\n",
      "lr = 0.001\n",
      "weight-decay = 0.01\n",
      "normalize = true\n",
      "num-threads = 11\n",
      "num-step-epochs = 100\n"
     ]
    }
   ],
   "source": [
    "!cat examples/parallel_config.cfg"
   ]
  },
  {
   "cell_type": "code",
   "execution_count": 14,
   "metadata": {
    "tags": []
   },
   "outputs": [
    {
     "name": "stdout",
     "output_type": "stream",
     "text": [
      "Time: 484 ms\n"
     ]
    }
   ],
   "source": [
    "!./build/bin/gradient_descent --config examples/parallel_config.cfg"
   ]
  },
  {
   "cell_type": "code",
   "execution_count": 15,
   "metadata": {},
   "outputs": [],
   "source": [
    "y_pred_parallel_sgd = load_matrix(\"output/parallel_pred.csv\", verbose=False)"
   ]
  },
  {
   "cell_type": "code",
   "execution_count": 16,
   "metadata": {},
   "outputs": [
    {
     "name": "stdout",
     "output_type": "stream",
     "text": [
      "MSE: 16.621072667443595\n"
     ]
    }
   ],
   "source": [
    "print(\"MSE:\", mean_squared_error(y_pred_parallel_sgd, y_eval))"
   ]
  },
  {
   "cell_type": "markdown",
   "metadata": {},
   "source": [
    "### Sklearn"
   ]
  },
  {
   "cell_type": "code",
   "execution_count": 17,
   "metadata": {},
   "outputs": [
    {
     "data": {
      "text/plain": [
       "Pipeline(steps=[('standardscaler', StandardScaler()),\n",
       "                ('linearregression', LinearRegression())])"
      ]
     },
     "execution_count": 17,
     "metadata": {},
     "output_type": "execute_result"
    }
   ],
   "source": [
    "regressor = make_pipeline(StandardScaler(), LinearRegression())\n",
    "# regressor = make_pipeline(\n",
    "#     StandardScaler(), \n",
    "#     SGDRegressor(alpha=0.01, learning_rate=\"constant\", eta0=0.001),\n",
    "# )\n",
    "# start = time.perf_counter_ns()\n",
    "regressor.fit(x_train, y_train.squeeze())\n",
    "# end = time.perf_counter_ns()\n",
    "# print(\"SGD:\", (end - start) / 1e6, \"ms\")"
   ]
  },
  {
   "cell_type": "code",
   "execution_count": 18,
   "metadata": {},
   "outputs": [],
   "source": [
    "y_pred = regressor.predict(x_eval)"
   ]
  },
  {
   "cell_type": "code",
   "execution_count": 19,
   "metadata": {},
   "outputs": [
    {
     "name": "stdout",
     "output_type": "stream",
     "text": [
      "MSE: 16.351442080312363\n"
     ]
    }
   ],
   "source": [
    "print(\"MSE:\", mean_squared_error(y_pred, y_eval))"
   ]
  },
  {
   "cell_type": "markdown",
   "metadata": {},
   "source": [
    "## Cost decay comparison"
   ]
  },
  {
   "cell_type": "markdown",
   "metadata": {},
   "source": [
    "### Prepare data"
   ]
  },
  {
   "cell_type": "code",
   "execution_count": 20,
   "metadata": {},
   "outputs": [],
   "source": [
    "parallel_cost = load_matrix(\"output/parallel_cost.csv\", verbose=False)\n",
    "serial_cost = load_matrix(\"output/serial_cost.csv\", verbose=False)\n",
    "\n",
    "num_parallel = parallel_cost.shape[0]\n",
    "num_serial = serial_cost.shape[0]\n",
    "\n",
    "serial_idxs = np.arange(num_serial)\n",
    "parallel_idxs = np.linspace(0, num_serial, num_parallel)"
   ]
  },
  {
   "cell_type": "markdown",
   "metadata": {},
   "source": [
    "### Plot"
   ]
  },
  {
   "cell_type": "code",
   "execution_count": 21,
   "metadata": {},
   "outputs": [
    {
     "data": {
      "image/png": "[encoded data removed]",
      "text/plain": [
       "<Figure size 1296x648 with 1 Axes>"
      ]
     },
     "metadata": {
      "needs_background": "light"
     },
     "output_type": "display_data"
    }
   ],
   "source": [
    "plt.figure(figsize=(18, 9))\n",
    "plt.plot(parallel_idxs, parallel_cost, color=\"red\", label=\"parallel\")\n",
    "plt.plot(serial_idxs, serial_cost, color=\"blue\", label=\"serial\")\n",
    "plt.legend()\n",
    "plt.xlabel(\"Epoch\")\n",
    "plt.ylabel(\"Cost\")\n",
    "plt.show()"
   ]
  },
  {
   "cell_type": "markdown",
   "metadata": {},
   "source": [
    "## Benchmark"
   ]
  },
  {
   "cell_type": "code",
   "execution_count": 22,
   "metadata": {},
   "outputs": [
    {
     "name": "stdout",
     "output_type": "stream",
     "text": [
      "SGD benchmark\n",
      "\n",
      "positional arguments:\n",
      "  binary                path to C++ gradient descent project executable\n",
      "\n",
      "options:\n",
      "  -h, --help            show this help message and exit\n",
      "  -c , --config         path to benchmark JSON config file (default: None)\n",
      "  -s , --serial-config \n",
      "                        path to serial SGD INI config file (default: None)\n",
      "  -p , --parallel-config \n",
      "                        path to parallel SGD INI config file (default: None)\n",
      "  -t , --temp-dir       path to temporary dir that will be removed after\n",
      "                        extection (default: benchmark_data)\n"
     ]
    }
   ],
   "source": [
    "!python demo/benchmark.py -h"
   ]
  },
  {
   "cell_type": "code",
   "execution_count": 23,
   "metadata": {},
   "outputs": [
    {
     "name": "stdout",
     "output_type": "stream",
     "text": [
      "{\n",
      "  \"data\": {\n",
      "    \"param_set\": [\n",
      "      {\"num-train\": 2000, \"num-features\": 25},\n",
      "      {\"num-train\": 5000, \"num-features\": 50},\n",
      "      {\"num-train\": 10000, \"num-features\": 100}\n",
      "    ]\n",
      "  },\n",
      "  \"sgd\": {\n",
      "    \"param_set\": [\n",
      "      {\"num-threads\": 15, \"num-step-epochs\": 100},\n",
      "      {\"num-threads\": 23, \"num-step-epochs\": 100}\n",
      "    ],\n",
      "    \"param_space\": {\n",
      "      \"num-threads\": [3, 7, 11],\n",
      "      \"num-step-epochs\": [10, 100]\n",
      "    }\n",
      "  }\n",
      "}"
     ]
    }
   ],
   "source": [
    "!cat examples/benchmark_config.json"
   ]
  },
  {
   "cell_type": "code",
   "execution_count": 24,
   "metadata": {},
   "outputs": [
    {
     "name": "stdout",
     "output_type": "stream",
     "text": [
      "Data params: num-train=2000, num-features=25\n",
      "Serial (): 243.0\n",
      "Parallel (num-threads=15, num-step-epochs=100): 78.0\n",
      "Parallel (num-threads=23, num-step-epochs=100): 68.0\n",
      "Parallel (num-threads=3, num-step-epochs=10): 173.0\n",
      "Parallel (num-threads=3, num-step-epochs=100): 137.0\n",
      "Parallel (num-threads=7, num-step-epochs=10): 124.0\n",
      "Parallel (num-threads=7, num-step-epochs=100): 104.0\n",
      "Parallel (num-threads=11, num-step-epochs=10): 275.0\n",
      "Parallel (num-threads=11, num-step-epochs=100): 59.0\n",
      "Data params: num-train=5000, num-features=50\n",
      "Serial (): 993.0\n",
      "Parallel (num-threads=15, num-step-epochs=100): 267.0\n",
      "Parallel (num-threads=23, num-step-epochs=100): 210.0\n",
      "Parallel (num-threads=3, num-step-epochs=10): 444.0\n",
      "Parallel (num-threads=3, num-step-epochs=100): 372.0\n",
      "Parallel (num-threads=7, num-step-epochs=10): 436.0\n",
      "Parallel (num-threads=7, num-step-epochs=100): 349.0\n",
      "Parallel (num-threads=11, num-step-epochs=10): 431.0\n",
      "Parallel (num-threads=11, num-step-epochs=100): 237.0\n",
      "Data params: num-train=10000, num-features=100\n",
      "Serial (): 7676.0\n",
      "Parallel (num-threads=15, num-step-epochs=100): 1263.0\n",
      "Parallel (num-threads=23, num-step-epochs=100): 1146.0\n",
      "Parallel (num-threads=3, num-step-epochs=10): 3919.0\n",
      "Parallel (num-threads=3, num-step-epochs=100): 2683.0\n",
      "Parallel (num-threads=7, num-step-epochs=10): 2633.0\n",
      "Parallel (num-threads=7, num-step-epochs=100): 1736.0\n",
      "Parallel (num-threads=11, num-step-epochs=10): 2321.0\n",
      "Parallel (num-threads=11, num-step-epochs=100): 1425.0\n"
     ]
    }
   ],
   "source": [
    "!python demo/benchmark.py build/bin/gradient_descent \\\n",
    "    --serial-config examples/serial_config.cfg \\\n",
    "    --parallel-config examples/parallel_config.cfg \\\n",
    "    --config examples/benchmark_config.json"
   ]
  }
 ],
 "metadata": {
  "interpreter": {
   "hash": "005aa42a3c05eb6a12425960c6c6bfe217241fd38a2b2fc790f7fac1e98f5e10"
  },
  "kernelspec": {
   "display_name": "Python 3 (ipykernel)",
   "language": "python",
   "name": "python3"
  },
  "language_info": {
   "codemirror_mode": {
    "name": "ipython",
    "version": 3
   },
   "file_extension": ".py",
   "mimetype": "text/x-python",
   "name": "python",
   "nbconvert_exporter": "python",
   "pygments_lexer": "ipython3",
   "version": "3.10.2"
  }
 },
 "nbformat": 4,
 "nbformat_minor": 4
}
