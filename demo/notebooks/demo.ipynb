{
 "cells": [
  {
   "cell_type": "markdown",
   "metadata": {},
   "source": [
    "## Import modules"
   ]
  },
  {
   "cell_type": "code",
   "execution_count": 1,
   "metadata": {},
   "outputs": [],
   "source": [
    "import numpy as np\n",
    "from sklearn.linear_model import SGDRegressor, LinearRegression\n",
    "from sklearn.preprocessing import StandardScaler\n",
    "from sklearn.pipeline import make_pipeline\n",
    "from sklearn.metrics import mean_squared_error\n",
    "import os\n",
    "import time"
   ]
  },
  {
   "cell_type": "markdown",
   "metadata": {},
   "source": [
    "## Utils"
   ]
  },
  {
   "cell_type": "code",
   "execution_count": 2,
   "metadata": {
    "tags": []
   },
   "outputs": [],
   "source": [
    "def load_matrix(path: str, verbose: bool = True) -> np.ndarray:\n",
    "    matrix = np.load(path)\n",
    "    if verbose:\n",
    "        print(\"Loaded matrix from\", os.path.basename(path))\n",
    "        print(\"Shape:\", matrix.shape)\n",
    "        print(\"Example:\\n\", matrix[:3], end=\"\\n\\n\")\n",
    "    return matrix"
   ]
  },
  {
   "cell_type": "code",
   "execution_count": 3,
   "metadata": {
    "tags": []
   },
   "outputs": [
    {
     "name": "stdout",
     "output_type": "stream",
     "text": [
      "/home/shkarupa/Documents/Semester6/Coursework/parallel-gradient-descent\n"
     ]
    }
   ],
   "source": [
    "%cd ../../"
   ]
  },
  {
   "cell_type": "markdown",
   "metadata": {},
   "source": [
    "## Generate data"
   ]
  },
  {
   "cell_type": "code",
   "execution_count": 4,
   "metadata": {},
   "outputs": [
    {
     "name": "stdout",
     "output_type": "stream",
     "text": [
      "Generate train and test data for linear regression model\n",
      "\n",
      "Tool arguments:\n",
      "  -h, --help          show this help message and exit\n",
      "  -t , --n-train      number of train samples (default: 1000)\n",
      "  -e , --n-eval       number of evaluation samples (default: 100)\n",
      "  -f , --n-features   number of per sample features (default: 10)\n",
      "  -s , --seed         seed that make data generation deterministic (default:\n",
      "                      None)\n",
      "  -o , --out-dir      path to directory where generated data will be stored\n",
      "                      (default: ./data)\n"
     ]
    }
   ],
   "source": [
    "!python demo/gen_data.py --help"
   ]
  },
  {
   "cell_type": "code",
   "execution_count": 5,
   "metadata": {},
   "outputs": [],
   "source": [
    "!python demo/gen_data.py --n-train 25000 --n-eval 2500 --n-features 25 --seed 42 --out-dir data"
   ]
  },
  {
   "cell_type": "markdown",
   "metadata": {},
   "source": [
    "## Look at data"
   ]
  },
  {
   "cell_type": "code",
   "execution_count": 6,
   "metadata": {},
   "outputs": [
    {
     "name": "stdout",
     "output_type": "stream",
     "text": [
      "x_eval.npy  x_train.npy  y_eval.npy  y_train.npy\n"
     ]
    }
   ],
   "source": [
    "!ls data"
   ]
  },
  {
   "cell_type": "code",
   "execution_count": 7,
   "metadata": {},
   "outputs": [
    {
     "name": "stdout",
     "output_type": "stream",
     "text": [
      "Loaded matrix from x_train.npy\n",
      "Shape: (25000, 25)\n",
      "Example:\n",
      " [[-0.78876782 -0.93433388 -0.62381164  0.49449039  0.66985235 -2.34489026\n",
      "   2.20601262  0.58554924 -0.99532385  1.06093379  0.06140756  0.10178809\n",
      "  -0.7774324  -0.13746189  0.92637013 -1.08991456  0.90956384  0.378188\n",
      "  -0.16182648 -0.51063043  0.08942337  1.72058511 -1.24840161 -0.55753184\n",
      "   0.87106578]\n",
      " [ 0.15150384  1.86471513 -0.25839877  2.46021107  0.5243476  -0.99595698\n",
      "  -2.4489341  -0.20082074 -0.10422274 -1.1890064   1.19507318 -0.19739341\n",
      "   0.72453046 -0.83207458 -0.51136239  1.92516888  1.11091932 -0.29542615\n",
      "   0.61680902  0.89166571 -1.03800368 -0.30955555 -1.26621354 -1.13170714\n",
      "  -1.05167034]\n",
      " [ 1.3079373  -1.74548713  0.9587125   1.59040617 -0.26800735 -2.20166815\n",
      "  -0.39878351  0.71667763  1.54870281 -0.71186963 -1.43268376 -0.90544979\n",
      "  -0.82187994  0.73842441 -0.18159903  0.74039985  0.3462451  -0.26220498\n",
      "   0.0891566  -0.00612928  0.05626937 -0.8788912   0.59366987  0.5744294\n",
      "  -0.11859269]]\n",
      "\n",
      "Loaded matrix from y_train.npy\n",
      "Shape: (25000, 1)\n",
      "Example:\n",
      " [[ 0.94915976]\n",
      " [-8.02248516]\n",
      " [-2.50854644]]\n",
      "\n",
      "Loaded matrix from x_eval.npy\n",
      "Shape: (2500, 25)\n",
      "Example:\n",
      " [[ 4.15421988e-01  1.52150077e+00 -1.06147835e+00 -2.15287448e-02\n",
      "   1.26943534e+00  1.08720210e-01 -4.34251015e-01  4.36240139e-01\n",
      "   3.74537663e-01 -5.21568832e-01 -8.53610627e-03  2.14089534e+00\n",
      "   1.13761482e+00  4.20118061e-01 -1.75409703e-01  9.94238627e-01\n",
      "  -6.98291742e-01 -9.29196700e-01 -6.50220677e-01  1.48903971e+00\n",
      "   6.17949635e-01  8.43226467e-01  4.72052850e-01 -1.26368752e+00\n",
      "  -7.21897905e-01]\n",
      " [ 1.68880757e+00  8.84067465e-01  7.10148808e-01 -2.68344283e-01\n",
      "  -3.81612194e-01 -3.44858028e-01 -1.21630630e+00  1.14821174e+00\n",
      "  -1.38186514e+00  2.22629998e-01  9.34418936e-01  5.56847856e-06\n",
      "   8.90677644e-01  1.50987092e+00 -6.82711633e-01 -9.85516071e-01\n",
      "   1.06636933e-01  3.68069307e-01  3.22759785e-01 -9.79304333e-02\n",
      "   7.42406529e-01 -5.70173645e-01  2.38809327e+00 -8.70182455e-01\n",
      "   2.58112554e-01]\n",
      " [ 3.67390416e-03 -2.17578575e+00 -3.12703129e-01 -8.47480769e-01\n",
      "  -9.31703107e-01  4.13815078e-01 -1.76672089e+00 -5.25383435e-01\n",
      "  -1.96403836e+00 -7.04703504e-01 -4.49795615e-01  6.93279502e-01\n",
      "   1.17099238e+00  7.48662243e-01  1.48712763e+00 -4.20742417e-01\n",
      "  -9.93284465e-01 -1.03437403e+00 -4.26214012e-01 -1.89636321e+00\n",
      "  -6.96407618e-02 -1.39668127e-01  4.25919545e-02  2.04960817e+00\n",
      "  -2.52028749e-01]]\n",
      "\n",
      "Loaded matrix from y_eval.npy\n",
      "Shape: (2500, 1)\n",
      "Example:\n",
      " [[ -2.93569303]\n",
      " [-11.04617411]\n",
      " [ -4.23588301]]\n",
      "\n"
     ]
    }
   ],
   "source": [
    "x_train = load_matrix(\"data/x_train.npy\")\n",
    "y_train = load_matrix(\"data/y_train.npy\")\n",
    "\n",
    "x_eval = load_matrix(\"data/x_eval.npy\")\n",
    "y_eval = load_matrix(\"data/y_eval.npy\")"
   ]
  },
  {
   "cell_type": "markdown",
   "metadata": {},
   "source": [
    "## Run Linear regression"
   ]
  },
  {
   "cell_type": "code",
   "execution_count": 8,
   "metadata": {},
   "outputs": [
    {
     "name": "stdout",
     "output_type": "stream",
     "text": [
      "Linear regression config:\n",
      "\n",
      "CLI options:\n",
      "  -h [ --help ]                        produce help message\n",
      "  -c [ --config ] arg                  path to config file\n",
      "\n",
      "Algorithm options:\n",
      "  -i [ --input-path ] arg              path to input NPY file\n",
      "  -t [ --target-path ] arg             path to target NPY file\n",
      "  -e [ --eval-path ] arg               path to evaluation NPY file\n",
      "  -o [ --out-path ] arg (=output.npy)  path to output NPY file\n",
      "  -p [ --parallel ]                    wether to use parallel or serial SGD\n",
      "  -n [ --num-epochs ] arg (=1000)      number of training epochs\n",
      "  -l [ --lr ] arg (=0.001)             learning rate\n",
      "  -w [ --weight-decay ] arg (=0.01)    L2 regularization lambda term\n",
      "  --normalize                          wether to normalize input\n",
      "  --num-threads arg (=11)              number of threads to use for parallel \n",
      "                                       SGD\n",
      "  --num-step-epochs arg (=1)           number of epochs to compute in each \n",
      "                                       thread before weight sharing\n",
      "\n"
     ]
    }
   ],
   "source": [
    "!./build/bin/gradient_descent -h"
   ]
  },
  {
   "cell_type": "markdown",
   "metadata": {},
   "source": [
    "### SGD"
   ]
  },
  {
   "cell_type": "code",
   "execution_count": 9,
   "metadata": {},
   "outputs": [
    {
     "name": "stdout",
     "output_type": "stream",
     "text": [
      "input-path = data/x_train.npy\n",
      "target-path = data/y_train.npy\n",
      "eval-path = data/x_eval.npy\n",
      "out-path = output/serial_pred.npy\n",
      "parallel = false\n",
      "num-epochs = 10000\n",
      "lr = 0.001\n",
      "weight-decay = 0.01\n",
      "normalize = true\n"
     ]
    }
   ],
   "source": [
    "!cat examples/serial_config.cfg"
   ]
  },
  {
   "cell_type": "code",
   "execution_count": 10,
   "metadata": {
    "tags": []
   },
   "outputs": [
    {
     "name": "stdout",
     "output_type": "stream",
     "text": [
      "SGD: 3676 ms\n"
     ]
    }
   ],
   "source": [
    "!./build/bin/gradient_descent --config examples/serial_config.cfg"
   ]
  },
  {
   "cell_type": "code",
   "execution_count": 11,
   "metadata": {},
   "outputs": [],
   "source": [
    "y_pred_sgd = load_matrix(\"output/serial_pred.npy\", verbose=False)"
   ]
  },
  {
   "cell_type": "code",
   "execution_count": 12,
   "metadata": {},
   "outputs": [
    {
     "name": "stdout",
     "output_type": "stream",
     "text": [
      "MSE: 16.18457694921623\n"
     ]
    }
   ],
   "source": [
    "print(\"MSE:\", mean_squared_error(y_pred_sgd.squeeze(), y_eval))"
   ]
  },
  {
   "cell_type": "markdown",
   "metadata": {},
   "source": [
    "### Parallel SGD"
   ]
  },
  {
   "cell_type": "code",
   "execution_count": 13,
   "metadata": {},
   "outputs": [
    {
     "name": "stdout",
     "output_type": "stream",
     "text": [
      "input-path = data/x_train.npy\n",
      "target-path = data/y_train.npy\n",
      "eval-path = data/x_eval.npy\n",
      "out-path = output/parallel_pred.npy\n",
      "parallel = true\n",
      "num-epochs = 10000\n",
      "lr = 0.001\n",
      "weight-decay = 0.01\n",
      "normalize = true\n",
      "num-threads = 11\n",
      "num-step-epochs = 100\n"
     ]
    }
   ],
   "source": [
    "!cat examples/parallel_config.cfg"
   ]
  },
  {
   "cell_type": "code",
   "execution_count": 14,
   "metadata": {
    "tags": []
   },
   "outputs": [
    {
     "name": "stdout",
     "output_type": "stream",
     "text": [
      "SGD: 8245 ms\n"
     ]
    }
   ],
   "source": [
    "!./build/bin/gradient_descent --config examples/parallel_config.cfg"
   ]
  },
  {
   "cell_type": "code",
   "execution_count": 15,
   "metadata": {},
   "outputs": [],
   "source": [
    "y_pred_parallel_sgd = load_matrix(\"output/parallel_pred.npy\", verbose=False)"
   ]
  },
  {
   "cell_type": "code",
   "execution_count": 16,
   "metadata": {},
   "outputs": [
    {
     "name": "stdout",
     "output_type": "stream",
     "text": [
      "MSE: 16.18446840903993\n"
     ]
    }
   ],
   "source": [
    "print(\"MSE:\", mean_squared_error(y_pred_parallel_sgd, y_eval))"
   ]
  },
  {
   "cell_type": "markdown",
   "metadata": {},
   "source": [
    "### Sklearn"
   ]
  },
  {
   "cell_type": "code",
   "execution_count": 17,
   "metadata": {},
   "outputs": [],
   "source": [
    "regressor = make_pipeline(StandardScaler(), LinearRegression())\n",
    "# regressor = make_pipeline(\n",
    "#     StandardScaler(), \n",
    "#     SGDRegressor(alpha=0.01, learning_rate=\"constant\", eta0=0.001),\n",
    "# )"
   ]
  },
  {
   "cell_type": "code",
   "execution_count": 18,
   "metadata": {},
   "outputs": [
    {
     "data": {
      "text/plain": [
       "Pipeline(steps=[('standardscaler', StandardScaler()),\n",
       "                ('linearregression', LinearRegression())])"
      ]
     },
     "execution_count": 18,
     "metadata": {},
     "output_type": "execute_result"
    }
   ],
   "source": [
    "# start = time.perf_counter_ns()\n",
    "regressor.fit(x_train, y_train.squeeze())\n",
    "# end = time.perf_counter_ns()\n",
    "# print(\"SGD:\", (end - start) / 1e6, \"ms\")"
   ]
  },
  {
   "cell_type": "code",
   "execution_count": 19,
   "metadata": {},
   "outputs": [],
   "source": [
    "y_pred = regressor.predict(x_eval)"
   ]
  },
  {
   "cell_type": "code",
   "execution_count": 20,
   "metadata": {},
   "outputs": [
    {
     "name": "stdout",
     "output_type": "stream",
     "text": [
      "MSE: 16.184555636494746\n"
     ]
    }
   ],
   "source": [
    "print(\"MSE:\", mean_squared_error(y_pred, y_eval))"
   ]
  }
 ],
 "metadata": {
  "interpreter": {
   "hash": "005aa42a3c05eb6a12425960c6c6bfe217241fd38a2b2fc790f7fac1e98f5e10"
  },
  "kernelspec": {
   "display_name": "Python 3 (ipykernel)",
   "language": "python",
   "name": "python3"
  },
  "language_info": {
   "codemirror_mode": {
    "name": "ipython",
    "version": 3
   },
   "file_extension": ".py",
   "mimetype": "text/x-python",
   "name": "python",
   "nbconvert_exporter": "python",
   "pygments_lexer": "ipython3",
   "version": "3.10.2"
  }
 },
 "nbformat": 4,
 "nbformat_minor": 4
}
