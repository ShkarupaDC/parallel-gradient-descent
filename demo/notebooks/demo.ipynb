{
 "cells": [
  {
   "cell_type": "markdown",
   "metadata": {},
   "source": [
    "## Import modules"
   ]
  },
  {
   "cell_type": "code",
   "execution_count": 1,
   "metadata": {},
   "outputs": [],
   "source": [
    "import numpy as np\n",
    "from sklearn.linear_model import SGDRegressor, LinearRegression\n",
    "from sklearn.preprocessing import StandardScaler\n",
    "from sklearn.pipeline import make_pipeline\n",
    "from sklearn.metrics import mean_squared_error\n",
    "import os\n",
    "import time"
   ]
  },
  {
   "cell_type": "markdown",
   "metadata": {},
   "source": [
    "## Utils"
   ]
  },
  {
   "cell_type": "code",
   "execution_count": 2,
   "metadata": {
    "tags": []
   },
   "outputs": [],
   "source": [
    "def load_matrix(path: str, verbose: bool = True, num_to_print: int = 3) -> np.ndarray:\n",
    "    matrix = np.loadtxt(path, delimiter=\",\")\n",
    "    if verbose:\n",
    "        print(\"Loaded matrix from\", os.path.basename(path))\n",
    "        print(\"Shape:\", matrix.shape)\n",
    "        print(\"Example:\\n\", matrix[:num_to_print], end=\"\\n\\n\")\n",
    "    return matrix"
   ]
  },
  {
   "cell_type": "code",
   "execution_count": 3,
   "metadata": {
    "tags": []
   },
   "outputs": [
    {
     "name": "stdout",
     "output_type": "stream",
     "text": [
      "/home/shkarupa/Documents/Semester6/Coursework/parallel-gradient-descent\n"
     ]
    }
   ],
   "source": [
    "%cd ../../"
   ]
  },
  {
   "cell_type": "markdown",
   "metadata": {},
   "source": [
    "## Generate data"
   ]
  },
  {
   "cell_type": "code",
   "execution_count": 4,
   "metadata": {},
   "outputs": [
    {
     "name": "stdout",
     "output_type": "stream",
     "text": [
      "Generate train and test data for linear regression model\n",
      "\n",
      "Tool arguments:\n",
      "  -h, --help          show this help message and exit\n",
      "  -t , --n-train      number of train samples (default: 1000)\n",
      "  -e , --n-eval       number of evaluation samples (default: 100)\n",
      "  -f , --n-features   number of per sample features (default: 10)\n",
      "  -s , --seed         seed that make data generation deterministic (default:\n",
      "                      None)\n",
      "  -o , --out-dir      path to directory where generated data will be stored\n",
      "                      (default: ./data)\n"
     ]
    }
   ],
   "source": [
    "!python demo/gen_data.py --help"
   ]
  },
  {
   "cell_type": "code",
   "execution_count": 5,
   "metadata": {},
   "outputs": [],
   "source": [
    "!python demo/gen_data.py --n-train 10000 --n-eval 1000 --n-features 50 --seed 42 --out-dir data"
   ]
  },
  {
   "cell_type": "markdown",
   "metadata": {},
   "source": [
    "## Look at data"
   ]
  },
  {
   "cell_type": "code",
   "execution_count": 6,
   "metadata": {},
   "outputs": [
    {
     "name": "stdout",
     "output_type": "stream",
     "text": [
      "x_eval.csv  x_train.csv  y_eval.csv  y_train.csv\n"
     ]
    }
   ],
   "source": [
    "!ls data"
   ]
  },
  {
   "cell_type": "code",
   "execution_count": 7,
   "metadata": {},
   "outputs": [
    {
     "name": "stdout",
     "output_type": "stream",
     "text": [
      "Loaded matrix from x_train.csv\n",
      "Shape: (10000, 50)\n",
      "Example:\n",
      " [[ 0.00837893 -0.10885068  1.56037392 -0.12066917  0.72925308 -1.64875532\n",
      "  -2.46482282 -1.6193807  -1.92134435 -1.01536413  0.00732488 -0.2737064\n",
      "  -0.41135527 -1.01846696  0.06612678 -0.89081492  0.1507947  -0.69712409\n",
      "   1.69730467 -0.5842055  -1.08315327  0.55754335  0.94753562 -0.48650709\n",
      "   0.46183739  0.41235071  1.13286166  0.49435865 -1.37962067  1.27530329\n",
      "  -0.21265261  0.90224016  0.74432705  0.44751107  1.41371174 -1.55982878\n",
      "  -0.72163126  0.11735925  0.51293586  0.69831565 -0.6681979  -0.63091615\n",
      "  -0.06307134 -0.91857534 -0.16397104 -1.50636156  0.29101263  1.05506763\n",
      "  -0.26739796  2.13032334]\n",
      " [ 0.63357274  0.86563418 -1.74369451  0.27489301  0.68030289  0.59951124\n",
      "  -0.3265366   1.192769   -1.31840945 -0.61239986 -0.18750388 -0.5810673\n",
      "   1.32719122  0.48778602  0.74382963  1.24113432 -1.40967929 -1.17732104\n",
      "  -1.75110861 -0.74742425  0.08530452 -0.96818675  0.56041463 -0.42524835\n",
      "   0.05463944 -0.13710052  1.79468895  0.83783368 -1.73029548  0.78886422\n",
      "  -0.3615923  -1.06665337  0.45041196 -0.16168911 -2.12859021 -2.07124407\n",
      "  -0.8799134   0.57343379  0.70960102  0.99551858  1.10877666 -0.79262283\n",
      "   1.8384369   0.87597384 -0.24967297 -2.89418506  0.13673266 -0.5296082\n",
      "  -1.44770677  1.06055988]\n",
      " [ 0.31190653  0.49029596 -0.48123541 -0.01712384  1.290306   -1.46898286\n",
      "  -0.86547499 -1.13921345 -1.62678941  0.40235895 -0.43482104 -0.09990356\n",
      "  -0.82782789 -0.93785979  1.12060928  1.65393433  0.31037558 -1.03212874\n",
      "  -0.52046173  0.40581054 -1.99086367 -0.12091064  0.40576896  0.40878464\n",
      "  -1.74156829 -0.94051644 -2.08277107 -0.40336326 -0.94823132  0.33928741\n",
      "   0.48821343  0.8512168   1.3626362  -0.66278208  0.34273585 -0.73311454\n",
      "   0.58705999 -0.82368536  0.31856261 -0.25755561 -0.84675103 -1.48359635\n",
      "  -0.29937368  0.15485498  1.36207434 -0.27524678  0.49192307  0.96918629\n",
      "   0.12849056  0.67651922]]\n",
      "\n",
      "Loaded matrix from y_train.csv\n",
      "Shape: (10000,)\n",
      "Example:\n",
      " [ 151.75162863 -387.76127694   75.27418144]\n",
      "\n",
      "Loaded matrix from x_eval.csv\n",
      "Shape: (1000, 50)\n",
      "Example:\n",
      " [[-1.71948176e-01 -3.96358855e-01  8.83892129e-03  9.73533873e-01\n",
      "   2.59557935e-01  1.66830863e+00  1.39830846e+00  2.15742265e-01\n",
      "   1.36005181e+00 -6.79701953e-01  1.72126249e+00  2.39400479e-01\n",
      "   7.96152665e-01 -1.12402416e-01 -2.00552875e-01  7.32945400e-01\n",
      "  -1.27729358e+00 -5.04903467e-01  3.62659006e-01 -1.14020562e-01\n",
      "  -3.31676935e-02  4.97168973e-01 -2.83346994e-01  7.95955244e-01\n",
      "   7.90944340e-01 -4.00830268e-01  9.17450697e-01  3.32610777e-01\n",
      "   1.89576625e-01  2.53432624e-01 -5.39990460e-01 -1.38466114e+00\n",
      "   1.07333031e+00  1.25572206e-02  8.81968247e-01  1.90436157e-01\n",
      "  -3.35167180e-02  3.39102967e-01 -7.19125018e-01  1.96667031e+00\n",
      "   2.44863720e+00 -1.53780910e-01 -1.85741429e+00  1.05225410e+00\n",
      "  -1.40103734e+00  8.13750856e-01  2.05942341e+00  7.14786861e-01\n",
      "  -5.97696611e-01  2.40640872e-03]\n",
      " [-8.22610087e-01 -4.13444725e-02 -1.09155753e+00  1.11023439e+00\n",
      "   2.90648365e-01  6.64869232e-01  2.01583429e-01 -4.72321215e-01\n",
      "  -1.90801817e+00 -6.22166664e-01  5.12345226e-01  1.05871961e+00\n",
      "   2.60500752e-01 -1.53331043e+00  1.55198130e-01  9.73061767e-01\n",
      "   4.48048393e-01 -1.17153065e+00  1.85756751e-01  8.09790156e-01\n",
      "   7.16926680e-01 -7.09967885e-01  2.02976644e+00 -8.87134442e-01\n",
      "   1.04068151e+00  1.19933809e-01  1.76157440e+00 -3.14188714e-01\n",
      "   1.53157247e+00 -6.50506280e-02 -2.69968333e-01 -6.05549937e-01\n",
      "  -2.56192772e-01 -2.25926115e+00  4.41698176e-01  1.43255995e+00\n",
      "  -7.83237099e-01 -1.50465013e-01  4.65527504e-01  9.97559983e-01\n",
      "  -1.45182059e+00  7.81850927e-01 -1.02267851e+00 -3.13976700e-01\n",
      "   2.57807252e+00 -9.15298697e-01  1.22694218e-01 -1.11510952e-01\n",
      "   2.19493907e+00  6.84751672e-01]\n",
      " [-3.02725713e-01  1.85214527e-01  1.36763768e+00  6.41755832e-01\n",
      "  -1.93814893e+00  1.37226516e+00 -2.28775968e-01  6.88157995e-01\n",
      "  -1.53856484e+00 -8.38175547e-01  1.87325484e+00  4.29692458e-01\n",
      "   8.36161723e-01  8.12526532e-01  1.49142414e+00  1.40437914e+00\n",
      "   4.08724882e-01  9.19077350e-01  7.30683622e-01  1.20373636e+00\n",
      "   4.24322110e-01 -6.30794379e-01  6.09415460e-01  1.03055753e-01\n",
      "  -3.73413297e-01  2.12277316e+00  1.92224256e-01  1.53887972e+00\n",
      "  -8.44864367e-01  1.17735257e+00 -9.66652452e-01  7.41882470e-01\n",
      "   1.41709946e+00  9.57233009e-01 -8.75743383e-01 -1.90231652e-01\n",
      "  -2.54345319e-01  6.44690607e-01  2.22614112e-01 -8.28641273e-01\n",
      "   1.00845551e+00  5.12257283e-01  1.47208284e+00  2.60489984e-01\n",
      "   5.73746616e-01  4.72471294e-02  3.47223330e-01 -5.18716509e-01\n",
      "   1.27705271e+00  5.44975695e-01]]\n",
      "\n",
      "Loaded matrix from y_eval.csv\n",
      "Shape: (1000,)\n",
      "Example:\n",
      " [134.39354744 320.85289265 401.5242087 ]\n",
      "\n"
     ]
    }
   ],
   "source": [
    "x_train = load_matrix(\"data/x_train.csv\")\n",
    "y_train = load_matrix(\"data/y_train.csv\")\n",
    "\n",
    "x_eval = load_matrix(\"data/x_eval.csv\")\n",
    "y_eval = load_matrix(\"data/y_eval.csv\")"
   ]
  },
  {
   "cell_type": "markdown",
   "metadata": {},
   "source": [
    "## Run Linear regression"
   ]
  },
  {
   "cell_type": "code",
   "execution_count": 8,
   "metadata": {},
   "outputs": [
    {
     "name": "stdout",
     "output_type": "stream",
     "text": [
      "Linear regression config:\n",
      "\n",
      "CLI options:\n",
      "  -h [ --help ]                        produce help message\n",
      "  -c [ --config ] arg                  path to config file\n",
      "\n",
      "Algorithm options:\n",
      "  -i [ --input-path ] arg              path to input CSV file\n",
      "  -t [ --target-path ] arg             path to target CSV file\n",
      "  -e [ --eval-path ] arg               path to evaluation CSV file\n",
      "  -o [ --out-path ] arg (=output.csv)  path to output CSV file\n",
      "  -p [ --parallel ]                    wether to use parallel or serial SGD\n",
      "  -n [ --num-epochs ] arg (=1000)      number of training epochs\n",
      "  -l [ --lr ] arg (=0.001)             learning rate\n",
      "  -w [ --weight-decay ] arg (=0.01)    L2 regularization lambda term\n",
      "  --normalize                          wether to normalize input\n",
      "  --num-threads arg (=11)              number of threads to use for parallel \n",
      "                                       SGD\n",
      "  --num-step-epochs arg (=1)           number of epochs to compute in each \n",
      "                                       thread before weight sharing\n",
      "\n"
     ]
    }
   ],
   "source": [
    "!./build/bin/gradient_descent -h"
   ]
  },
  {
   "cell_type": "markdown",
   "metadata": {},
   "source": [
    "### SGD"
   ]
  },
  {
   "cell_type": "code",
   "execution_count": 9,
   "metadata": {},
   "outputs": [
    {
     "name": "stdout",
     "output_type": "stream",
     "text": [
      "input-path = data/x_train.csv\n",
      "target-path = data/y_train.csv\n",
      "eval-path = data/x_eval.csv\n",
      "out-path = output/serial_pred.csv\n",
      "parallel = false\n",
      "num-epochs = 10000\n",
      "lr = 0.001\n",
      "weight-decay = 0.01\n",
      "normalize = true\n"
     ]
    }
   ],
   "source": [
    "!cat examples/serial_config.cfg"
   ]
  },
  {
   "cell_type": "code",
   "execution_count": 10,
   "metadata": {
    "tags": []
   },
   "outputs": [
    {
     "name": "stdout",
     "output_type": "stream",
     "text": [
      "SGD: 1867 ms\n"
     ]
    }
   ],
   "source": [
    "!./build/bin/gradient_descent --config examples/serial_config.cfg"
   ]
  },
  {
   "cell_type": "code",
   "execution_count": 11,
   "metadata": {},
   "outputs": [],
   "source": [
    "y_pred_sgd = load_matrix(\"output/serial_pred.csv\", verbose=False)"
   ]
  },
  {
   "cell_type": "code",
   "execution_count": 12,
   "metadata": {},
   "outputs": [
    {
     "name": "stdout",
     "output_type": "stream",
     "text": [
      "MSE: 3.643120203281636\n"
     ]
    }
   ],
   "source": [
    "print(\"MSE:\", mean_squared_error(y_pred_sgd.squeeze(), y_eval))"
   ]
  },
  {
   "cell_type": "markdown",
   "metadata": {},
   "source": [
    "### Parallel SGD"
   ]
  },
  {
   "cell_type": "code",
   "execution_count": 13,
   "metadata": {},
   "outputs": [
    {
     "name": "stdout",
     "output_type": "stream",
     "text": [
      "input-path = data/x_train.csv\n",
      "target-path = data/y_train.csv\n",
      "eval-path = data/x_eval.csv\n",
      "out-path = output/parallel_pred.csv\n",
      "parallel = true\n",
      "num-epochs = 10000\n",
      "lr = 0.001\n",
      "weight-decay = 0.01\n",
      "normalize = true\n",
      "num-threads = 11\n",
      "num-step-epochs = 100\n"
     ]
    }
   ],
   "source": [
    "!cat examples/parallel_config.cfg"
   ]
  },
  {
   "cell_type": "code",
   "execution_count": 14,
   "metadata": {
    "tags": []
   },
   "outputs": [
    {
     "name": "stdout",
     "output_type": "stream",
     "text": [
      "SGD: 500 ms\n"
     ]
    }
   ],
   "source": [
    "!./build/bin/gradient_descent --config examples/parallel_config.cfg"
   ]
  },
  {
   "cell_type": "code",
   "execution_count": 15,
   "metadata": {},
   "outputs": [],
   "source": [
    "y_pred_parallel_sgd = load_matrix(\"output/parallel_pred.csv\", verbose=False)"
   ]
  },
  {
   "cell_type": "code",
   "execution_count": 16,
   "metadata": {},
   "outputs": [
    {
     "name": "stdout",
     "output_type": "stream",
     "text": [
      "MSE: 3.692160818550913\n"
     ]
    }
   ],
   "source": [
    "print(\"MSE:\", mean_squared_error(y_pred_parallel_sgd, y_eval))"
   ]
  },
  {
   "cell_type": "markdown",
   "metadata": {},
   "source": [
    "### Sklearn"
   ]
  },
  {
   "cell_type": "code",
   "execution_count": 17,
   "metadata": {},
   "outputs": [],
   "source": [
    "regressor = make_pipeline(StandardScaler(), LinearRegression())\n",
    "# regressor = make_pipeline(\n",
    "#     StandardScaler(), \n",
    "#     SGDRegressor(alpha=0.01, learning_rate=\"constant\", eta0=0.001),\n",
    "# )"
   ]
  },
  {
   "cell_type": "code",
   "execution_count": 18,
   "metadata": {},
   "outputs": [
    {
     "data": {
      "text/plain": [
       "Pipeline(steps=[('standardscaler', StandardScaler()),\n",
       "                ('linearregression', LinearRegression())])"
      ]
     },
     "execution_count": 18,
     "metadata": {},
     "output_type": "execute_result"
    }
   ],
   "source": [
    "# start = time.perf_counter_ns()\n",
    "regressor.fit(x_train, y_train.squeeze())\n",
    "# end = time.perf_counter_ns()\n",
    "# print(\"SGD:\", (end - start) / 1e6, \"ms\")"
   ]
  },
  {
   "cell_type": "code",
   "execution_count": 19,
   "metadata": {},
   "outputs": [],
   "source": [
    "y_pred = regressor.predict(x_eval)"
   ]
  },
  {
   "cell_type": "code",
   "execution_count": 20,
   "metadata": {},
   "outputs": [
    {
     "name": "stdout",
     "output_type": "stream",
     "text": [
      "MSE: 3.6441656695476525\n"
     ]
    }
   ],
   "source": [
    "print(\"MSE:\", mean_squared_error(y_pred, y_eval))"
   ]
  }
 ],
 "metadata": {
  "interpreter": {
   "hash": "005aa42a3c05eb6a12425960c6c6bfe217241fd38a2b2fc790f7fac1e98f5e10"
  },
  "kernelspec": {
   "display_name": "Python 3 (ipykernel)",
   "language": "python",
   "name": "python3"
  },
  "language_info": {
   "codemirror_mode": {
    "name": "ipython",
    "version": 3
   },
   "file_extension": ".py",
   "mimetype": "text/x-python",
   "name": "python",
   "nbconvert_exporter": "python",
   "pygments_lexer": "ipython3",
   "version": "3.10.2"
  }
 },
 "nbformat": 4,
 "nbformat_minor": 4
}
