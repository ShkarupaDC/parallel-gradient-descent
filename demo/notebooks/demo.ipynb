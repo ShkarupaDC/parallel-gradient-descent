{
 "cells": [
  {
   "cell_type": "markdown",
   "metadata": {},
   "source": [
    "## Import modules"
   ]
  },
  {
   "cell_type": "code",
   "execution_count": 1,
   "metadata": {},
   "outputs": [],
   "source": [
    "import numpy as np\n",
    "from sklearn.linear_model import SGDRegressor, LinearRegression\n",
    "from sklearn.preprocessing import StandardScaler\n",
    "from sklearn.pipeline import make_pipeline\n",
    "from sklearn.metrics import mean_squared_error\n",
    "import os\n",
    "import time"
   ]
  },
  {
   "cell_type": "markdown",
   "metadata": {},
   "source": [
    "## Utils"
   ]
  },
  {
   "cell_type": "code",
   "execution_count": 2,
   "metadata": {
    "tags": []
   },
   "outputs": [],
   "source": [
    "def load_matrix(path: str, verbose: bool = True) -> np.ndarray:\n",
    "    matrix = np.load(path)\n",
    "    if verbose:\n",
    "        print(\"Loaded matrix from\", os.path.basename(path))\n",
    "        print(\"Shape:\", matrix.shape)\n",
    "        print(\"Example:\\n\", matrix[:3], end=\"\\n\\n\")\n",
    "    return matrix"
   ]
  },
  {
   "cell_type": "code",
   "execution_count": 3,
   "metadata": {
    "tags": []
   },
   "outputs": [
    {
     "name": "stdout",
     "output_type": "stream",
     "text": [
      "/home/shkarupa/Documents/Semester6/Coursework/parallel-gradient-descent\n"
     ]
    }
   ],
   "source": [
    "%cd ../../"
   ]
  },
  {
   "cell_type": "markdown",
   "metadata": {},
   "source": [
    "## Generate data"
   ]
  },
  {
   "cell_type": "code",
   "execution_count": 4,
   "metadata": {},
   "outputs": [
    {
     "name": "stdout",
     "output_type": "stream",
     "text": [
      "Generate train and test data for linear regression model\n",
      "\n",
      "Tool arguments:\n",
      "  -h, --help          show this help message and exit\n",
      "  -t , --n-train      number of train samples (default: 1000)\n",
      "  -e , --n-eval       number of evaluation samples (default: 100)\n",
      "  -f , --n-features   number of per sample features (default: 10)\n",
      "  -s , --seed         seed that make data generation deterministic (default:\n",
      "                      None)\n",
      "  -o , --out-dir      path to directory where generated data will be stored\n",
      "                      (default: ./data)\n"
     ]
    }
   ],
   "source": [
    "!python demo/gen_data.py --help"
   ]
  },
  {
   "cell_type": "code",
   "execution_count": 5,
   "metadata": {},
   "outputs": [],
   "source": [
    "!python demo/gen_data.py --n-train 4000 --n-eval 400 --n-features 25 --seed 42 --out-dir data"
   ]
  },
  {
   "cell_type": "markdown",
   "metadata": {},
   "source": [
    "## Look at data"
   ]
  },
  {
   "cell_type": "code",
   "execution_count": 6,
   "metadata": {},
   "outputs": [
    {
     "name": "stdout",
     "output_type": "stream",
     "text": [
      "x_eval.npy  x_train.npy  y_eval.npy  y_train.npy\n"
     ]
    }
   ],
   "source": [
    "!ls data"
   ]
  },
  {
   "cell_type": "code",
   "execution_count": 7,
   "metadata": {},
   "outputs": [
    {
     "name": "stdout",
     "output_type": "stream",
     "text": [
      "Loaded matrix from x_train.npy\n",
      "Shape: (4000, 25)\n",
      "Example:\n",
      " [[ 7.61510575e-04  5.10739396e-01  5.23892561e-01 -4.46711750e-01\n",
      "  -4.73159956e-01  1.47420731e+00  1.64221552e+00 -7.58297348e-01\n",
      "  -2.67756101e+00  1.91623842e-01  1.79700202e-01 -2.82382435e+00\n",
      "   6.76787436e-01 -8.06064483e-01  2.39762175e-01 -2.54611772e+00\n",
      "  -1.06302545e+00 -2.82332697e-02 -4.17779921e-01  2.52047770e+00\n",
      "  -7.62234840e-01  1.43246353e-01  5.07992399e-01 -1.19967003e+00\n",
      "  -5.29871112e-01]\n",
      " [-6.65335803e-01  3.06033282e-01  1.17493324e+00  1.71065867e+00\n",
      "   6.63910328e-01 -2.87484170e-01 -2.43012131e-01 -9.81690716e-01\n",
      "   5.85984180e-01 -8.13542573e-01  9.67778862e-01  2.07679659e+00\n",
      "  -9.36234206e-01  1.34887047e+00  5.26148825e-01 -6.05668382e-01\n",
      "   6.50604954e-01  1.55845726e-02  1.77088221e+00 -7.88585712e-01\n",
      "   1.74056039e-01  6.23693210e-01 -3.06594525e-01 -1.89786746e-01\n",
      "  -3.34701468e-01]\n",
      " [-8.81509965e-01  2.04751703e-02 -9.61155035e-01  9.37564014e-01\n",
      "  -6.13402726e-01 -1.50291679e-01 -9.30338835e-01 -2.59793474e-01\n",
      "  -1.08803728e-01 -3.01655796e-01  1.01603039e+00  1.17863795e+00\n",
      "   2.74987537e-02  1.10243264e+00  2.16448509e-01 -2.15160873e-01\n",
      "  -2.90886243e+00 -1.15088482e+00 -6.03779796e-01 -4.96234009e-01\n",
      "  -6.79812353e-01  2.73649453e-01 -6.56584083e-01 -7.41796628e-01\n",
      "  -3.27084628e-01]]\n",
      "\n",
      "Loaded matrix from y_train.npy\n",
      "Shape: (4000, 1)\n",
      "Example:\n",
      " [[  63.19885111]\n",
      " [ 101.95969243]\n",
      " [-167.68347015]]\n",
      "\n",
      "Loaded matrix from x_eval.npy\n",
      "Shape: (400, 25)\n",
      "Example:\n",
      " [[ 1.22392020e+00 -1.26245061e+00 -3.92612732e-01 -4.37066487e-01\n",
      "   4.67379570e-01 -1.16213377e-01  3.84999189e-01  2.01666247e-01\n",
      "  -3.29060000e-01 -4.71053570e-01  2.54943841e-01  6.53250945e-01\n",
      "  -1.32253793e+00  2.55184009e+00 -3.84800420e-01  2.44320252e+00\n",
      "  -8.10940805e-01 -1.29894611e-01  4.79932811e-01  1.38695426e-01\n",
      "   3.98410824e-01  1.75440345e-01  2.12554216e-03  1.31654577e+00\n",
      "   4.78821189e-01]\n",
      " [-1.15076087e+00 -1.61979184e-01 -1.66432069e+00 -6.04673012e-02\n",
      "  -1.99757487e+00  1.52226232e+00 -1.59903790e+00  1.18106401e+00\n",
      "  -8.17521801e-01  5.78599346e-01  5.24270766e-01 -9.42671478e-02\n",
      "  -8.19332642e-01  7.29934089e-01 -6.87728122e-01  1.14634615e-01\n",
      "  -6.32914386e-01  6.51228552e-01  1.19474495e+00 -1.06623572e+00\n",
      "   8.36614897e-01  1.01011273e+00 -8.90914090e-01  1.79985682e+00\n",
      "  -8.54377838e-01]\n",
      " [-1.33546468e+00  3.26931934e-01 -6.45310116e-01 -1.46925621e+00\n",
      "  -3.01699062e-01  2.04223890e+00  1.45485688e+00  7.81166799e-01\n",
      "  -9.44962694e-01  4.18856756e-01  2.17859792e+00 -6.21789353e-01\n",
      "  -1.17959678e+00 -1.83442393e+00 -1.48240871e+00 -7.48163257e-01\n",
      "  -1.79989659e+00  1.20745263e+00 -3.98322626e-01 -3.47986667e-02\n",
      "  -7.95601129e-02 -1.36106256e+00 -1.33795835e+00 -8.99701489e-01\n",
      "  -1.05245683e+00]]\n",
      "\n",
      "Loaded matrix from y_eval.npy\n",
      "Shape: (400, 1)\n",
      "Example:\n",
      " [[  34.75291738]\n",
      " [-324.79795829]\n",
      " [-343.42800334]]\n",
      "\n"
     ]
    }
   ],
   "source": [
    "x_train = load_matrix(\"data/x_train.npy\")\n",
    "y_train = load_matrix(\"data/y_train.npy\")\n",
    "\n",
    "x_eval = load_matrix(\"data/x_eval.npy\")\n",
    "y_eval = load_matrix(\"data/y_eval.npy\")"
   ]
  },
  {
   "cell_type": "markdown",
   "metadata": {},
   "source": [
    "## Run Linear regression"
   ]
  },
  {
   "cell_type": "code",
   "execution_count": 8,
   "metadata": {},
   "outputs": [
    {
     "name": "stdout",
     "output_type": "stream",
     "text": [
      "Linear regression config:\n",
      "\n",
      "CLI options:\n",
      "  -h [ --help ]                        produce help message\n",
      "  -c [ --config ] arg                  path to config file\n",
      "\n",
      "Algorithm options:\n",
      "  -i [ --input-path ] arg              path to input NPY file\n",
      "  -t [ --target-path ] arg             path to target NPY file\n",
      "  -e [ --eval-path ] arg               path to evaluation NPY file\n",
      "  -o [ --out-path ] arg (=output.npy)  path to output NPY file\n",
      "  -p [ --parallel ]                    wether to use parallel or serial SGD\n",
      "  -n [ --num-epochs ] arg (=1000)      number of training epochs\n",
      "  -l [ --lr ] arg (=0.001)             learning rate\n",
      "  -w [ --weight-decay ] arg (=0.01)    L2 regularization lambda term\n",
      "  --normalize                          wether to normalize input\n",
      "  --num-threads arg (=11)              number of threads to use for parallel \n",
      "                                       SGD\n",
      "  --num-step-epochs arg (=1)           number of epochs to compute in each \n",
      "                                       thread before weight sharing\n",
      "\n"
     ]
    }
   ],
   "source": [
    "!./build/bin/gradient_descent -h"
   ]
  },
  {
   "cell_type": "markdown",
   "metadata": {},
   "source": [
    "### SGD"
   ]
  },
  {
   "cell_type": "code",
   "execution_count": 9,
   "metadata": {},
   "outputs": [
    {
     "name": "stdout",
     "output_type": "stream",
     "text": [
      "input-path = data/x_train.npy\n",
      "target-path = data/y_train.npy\n",
      "eval-path = data/x_eval.npy\n",
      "out-path = output/serial_pred.npy\n",
      "parallel = false\n",
      "num-epochs = 10000\n",
      "lr = 0.001\n",
      "weight-decay = 0.01\n",
      "normalize = true\n"
     ]
    }
   ],
   "source": [
    "!cat examples/serial_config.cfg"
   ]
  },
  {
   "cell_type": "code",
   "execution_count": 10,
   "metadata": {
    "tags": []
   },
   "outputs": [
    {
     "name": "stdout",
     "output_type": "stream",
     "text": [
      "SGD: 763 ms\n"
     ]
    }
   ],
   "source": [
    "!./build/bin/gradient_descent --config examples/serial_config.cfg"
   ]
  },
  {
   "cell_type": "code",
   "execution_count": 11,
   "metadata": {},
   "outputs": [],
   "source": [
    "y_pred_sgd = load_matrix(\"output/serial_pred.npy\", verbose=False)"
   ]
  },
  {
   "cell_type": "code",
   "execution_count": 12,
   "metadata": {},
   "outputs": [
    {
     "name": "stdout",
     "output_type": "stream",
     "text": [
      "MSE: 0.616383933259275\n"
     ]
    }
   ],
   "source": [
    "print(\"MSE:\", mean_squared_error(y_pred_sgd.squeeze(), y_eval))"
   ]
  },
  {
   "cell_type": "markdown",
   "metadata": {},
   "source": [
    "### Parallel SGD"
   ]
  },
  {
   "cell_type": "code",
   "execution_count": 13,
   "metadata": {},
   "outputs": [
    {
     "name": "stdout",
     "output_type": "stream",
     "text": [
      "input-path = data/x_train.npy\n",
      "target-path = data/y_train.npy\n",
      "eval-path = data/x_eval.npy\n",
      "out-path = output/parallel_pred.npy\n",
      "parallel = true\n",
      "num-epochs = 10000\n",
      "lr = 0.001\n",
      "weight-decay = 0.01\n",
      "normalize = true\n",
      "num-threads = 11\n",
      "num-step-epochs = 100\n"
     ]
    }
   ],
   "source": [
    "!cat examples/parallel_config.cfg"
   ]
  },
  {
   "cell_type": "code",
   "execution_count": 14,
   "metadata": {
    "tags": []
   },
   "outputs": [
    {
     "name": "stdout",
     "output_type": "stream",
     "text": [
      "SGD: 347 ms\n"
     ]
    }
   ],
   "source": [
    "!./build/bin/gradient_descent --config examples/parallel_config.cfg"
   ]
  },
  {
   "cell_type": "code",
   "execution_count": 15,
   "metadata": {},
   "outputs": [],
   "source": [
    "y_pred_parallel_sgd = load_matrix(\"output/parallel_pred.npy\", verbose=False)"
   ]
  },
  {
   "cell_type": "code",
   "execution_count": 16,
   "metadata": {},
   "outputs": [
    {
     "name": "stdout",
     "output_type": "stream",
     "text": [
      "MSE: 0.6171191233879124\n"
     ]
    }
   ],
   "source": [
    "print(\"MSE:\", mean_squared_error(y_pred_parallel_sgd, y_eval))"
   ]
  },
  {
   "cell_type": "markdown",
   "metadata": {},
   "source": [
    "### Sklearn"
   ]
  },
  {
   "cell_type": "code",
   "execution_count": 17,
   "metadata": {},
   "outputs": [],
   "source": [
    "regressor = make_pipeline(StandardScaler(), LinearRegression())\n",
    "# regressor = make_pipeline(\n",
    "#     StandardScaler(), \n",
    "#     SGDRegressor(alpha=0.01, learning_rate=\"constant\", eta0=0.001),\n",
    "# )"
   ]
  },
  {
   "cell_type": "code",
   "execution_count": 18,
   "metadata": {},
   "outputs": [
    {
     "data": {
      "text/plain": [
       "Pipeline(steps=[('standardscaler', StandardScaler()),\n",
       "                ('linearregression', LinearRegression())])"
      ]
     },
     "execution_count": 18,
     "metadata": {},
     "output_type": "execute_result"
    }
   ],
   "source": [
    "# start = time.perf_counter_ns()\n",
    "regressor.fit(x_train, y_train.squeeze())\n",
    "# end = time.perf_counter_ns()\n",
    "# print(\"SGD:\", (end - start) / 1e6, \"ms\")"
   ]
  },
  {
   "cell_type": "code",
   "execution_count": 19,
   "metadata": {},
   "outputs": [],
   "source": [
    "y_pred = regressor.predict(x_eval)"
   ]
  },
  {
   "cell_type": "code",
   "execution_count": 20,
   "metadata": {},
   "outputs": [
    {
     "name": "stdout",
     "output_type": "stream",
     "text": [
      "MSE: 0.6155152676578428\n"
     ]
    }
   ],
   "source": [
    "print(\"MSE:\", mean_squared_error(y_pred, y_eval))"
   ]
  }
 ],
 "metadata": {
  "interpreter": {
   "hash": "005aa42a3c05eb6a12425960c6c6bfe217241fd38a2b2fc790f7fac1e98f5e10"
  },
  "kernelspec": {
   "display_name": "Python 3 (ipykernel)",
   "language": "python",
   "name": "python3"
  },
  "language_info": {
   "codemirror_mode": {
    "name": "ipython",
    "version": 3
   },
   "file_extension": ".py",
   "mimetype": "text/x-python",
   "name": "python",
   "nbconvert_exporter": "python",
   "pygments_lexer": "ipython3",
   "version": "3.10.2"
  }
 },
 "nbformat": 4,
 "nbformat_minor": 4
}
